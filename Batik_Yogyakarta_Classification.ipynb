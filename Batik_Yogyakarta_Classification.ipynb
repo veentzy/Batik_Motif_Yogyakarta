{
  "cells": [
    {
      "cell_type": "code",
      "execution_count": null,
      "metadata": {
        "colab": {
          "base_uri": "https://localhost:8080/"
        },
        "id": "tnw_shFOP2DP",
        "outputId": "ae1118be-b85f-4852-9afa-4f8de35ad0ef"
      },
      "outputs": [
        {
          "output_type": "stream",
          "name": "stdout",
          "text": [
            "Drive already mounted at /content/drive; to attempt to forcibly remount, call drive.mount(\"/content/drive\", force_remount=True).\n"
          ]
        }
      ],
      "source": [
        "from google.colab import drive\n",
        "drive.mount('/content/drive')"
      ]
    },
    {
      "cell_type": "code",
      "execution_count": null,
      "metadata": {
        "id": "bR5sD831OuAs"
      },
      "outputs": [],
      "source": [
        "import os\n",
        "import pandas as pd\n",
        "import matplotlib.pyplot as plt\n",
        "import numpy as np\n",
        "from keras.preprocessing.image import ImageDataGenerator, img_to_array, load_img \n",
        "from keras.utils.np_utils import to_categorical \n",
        "from keras.layers import Conv2D, MaxPool2D, Dropout, Flatten, Dense\n",
        "import tensorflow as tf"
      ]
    },
    {
      "cell_type": "code",
      "execution_count": null,
      "metadata": {
        "id": "jryuRvStOuAx"
      },
      "outputs": [],
      "source": [
        "mypath= '/content/drive/MyDrive/Batik Jogja'"
      ]
    },
    {
      "cell_type": "code",
      "execution_count": null,
      "metadata": {
        "id": "lMS4V7ToOuAz"
      },
      "outputs": [],
      "source": [
        "file_name = []\n",
        "tag = []\n",
        "full_path = []\n",
        "for path, subdirs, files in os.walk(mypath):\n",
        "    for name in files:\n",
        "        full_path.append(os.path.join(path, name)) \n",
        "        tag.append(path.split('/')[-1])        \n",
        "        file_name.append(name)"
      ]
    },
    {
      "cell_type": "code",
      "execution_count": null,
      "metadata": {
        "colab": {
          "base_uri": "https://localhost:8080/"
        },
        "id": "5Bsz5uOvOuA8",
        "outputId": "bf737ae5-de3c-4c68-a062-c44f25213963"
      },
      "outputs": [
        {
          "output_type": "execute_result",
          "data": {
            "text/plain": [
              "tag\n",
              "Batik Ceplok         80\n",
              "Batik Kawung         80\n",
              "Batik Parang         80\n",
              "Batik Sekar Jagad    80\n",
              "Batik Tambal         80\n",
              "dtype: int64"
            ]
          },
          "metadata": {},
          "execution_count": 5
        }
      ],
      "source": [
        "# memasukan variabel yang sudah dikumpulkan pada looping di atas menjadi sebuah dataframe agar rapih\n",
        "df = pd.DataFrame({\"path\":full_path,'file_name':file_name,\"tag\":tag})\n",
        "df.groupby(['tag']).size()"
      ]
    },
    {
      "cell_type": "code",
      "execution_count": null,
      "metadata": {
        "colab": {
          "base_uri": "https://localhost:8080/",
          "height": 206
        },
        "id": "Yz632vuUOuBB",
        "outputId": "8cb5ae26-cd18-498b-b8b3-1bef58005945"
      },
      "outputs": [
        {
          "output_type": "execute_result",
          "data": {
            "text/plain": [
              "                                                path               file_name  \\\n",
              "0  /content/drive/MyDrive/Batik Jogja/Batik Kawun...  kawung v7 test (2).jpg   \n",
              "1  /content/drive/MyDrive/Batik Jogja/Batik Kawun...  kawung v7 test (8).jpg   \n",
              "2  /content/drive/MyDrive/Batik Jogja/Batik Kawun...  kawung v7 test (6).jpg   \n",
              "3  /content/drive/MyDrive/Batik Jogja/Batik Kawun...  kawung v7 test (1).jpg   \n",
              "4  /content/drive/MyDrive/Batik Jogja/Batik Kawun...  kawung v7 test (3).jpg   \n",
              "\n",
              "            tag  \n",
              "0  Batik Kawung  \n",
              "1  Batik Kawung  \n",
              "2  Batik Kawung  \n",
              "3  Batik Kawung  \n",
              "4  Batik Kawung  "
            ],
            "text/html": [
              "\n",
              "  <div id=\"df-2c6b4776-e8de-4a63-952d-6369fb54d9cb\">\n",
              "    <div class=\"colab-df-container\">\n",
              "      <div>\n",
              "<style scoped>\n",
              "    .dataframe tbody tr th:only-of-type {\n",
              "        vertical-align: middle;\n",
              "    }\n",
              "\n",
              "    .dataframe tbody tr th {\n",
              "        vertical-align: top;\n",
              "    }\n",
              "\n",
              "    .dataframe thead th {\n",
              "        text-align: right;\n",
              "    }\n",
              "</style>\n",
              "<table border=\"1\" class=\"dataframe\">\n",
              "  <thead>\n",
              "    <tr style=\"text-align: right;\">\n",
              "      <th></th>\n",
              "      <th>path</th>\n",
              "      <th>file_name</th>\n",
              "      <th>tag</th>\n",
              "    </tr>\n",
              "  </thead>\n",
              "  <tbody>\n",
              "    <tr>\n",
              "      <th>0</th>\n",
              "      <td>/content/drive/MyDrive/Batik Jogja/Batik Kawun...</td>\n",
              "      <td>kawung v7 test (2).jpg</td>\n",
              "      <td>Batik Kawung</td>\n",
              "    </tr>\n",
              "    <tr>\n",
              "      <th>1</th>\n",
              "      <td>/content/drive/MyDrive/Batik Jogja/Batik Kawun...</td>\n",
              "      <td>kawung v7 test (8).jpg</td>\n",
              "      <td>Batik Kawung</td>\n",
              "    </tr>\n",
              "    <tr>\n",
              "      <th>2</th>\n",
              "      <td>/content/drive/MyDrive/Batik Jogja/Batik Kawun...</td>\n",
              "      <td>kawung v7 test (6).jpg</td>\n",
              "      <td>Batik Kawung</td>\n",
              "    </tr>\n",
              "    <tr>\n",
              "      <th>3</th>\n",
              "      <td>/content/drive/MyDrive/Batik Jogja/Batik Kawun...</td>\n",
              "      <td>kawung v7 test (1).jpg</td>\n",
              "      <td>Batik Kawung</td>\n",
              "    </tr>\n",
              "    <tr>\n",
              "      <th>4</th>\n",
              "      <td>/content/drive/MyDrive/Batik Jogja/Batik Kawun...</td>\n",
              "      <td>kawung v7 test (3).jpg</td>\n",
              "      <td>Batik Kawung</td>\n",
              "    </tr>\n",
              "  </tbody>\n",
              "</table>\n",
              "</div>\n",
              "      <button class=\"colab-df-convert\" onclick=\"convertToInteractive('df-2c6b4776-e8de-4a63-952d-6369fb54d9cb')\"\n",
              "              title=\"Convert this dataframe to an interactive table.\"\n",
              "              style=\"display:none;\">\n",
              "        \n",
              "  <svg xmlns=\"http://www.w3.org/2000/svg\" height=\"24px\"viewBox=\"0 0 24 24\"\n",
              "       width=\"24px\">\n",
              "    <path d=\"M0 0h24v24H0V0z\" fill=\"none\"/>\n",
              "    <path d=\"M18.56 5.44l.94 2.06.94-2.06 2.06-.94-2.06-.94-.94-2.06-.94 2.06-2.06.94zm-11 1L8.5 8.5l.94-2.06 2.06-.94-2.06-.94L8.5 2.5l-.94 2.06-2.06.94zm10 10l.94 2.06.94-2.06 2.06-.94-2.06-.94-.94-2.06-.94 2.06-2.06.94z\"/><path d=\"M17.41 7.96l-1.37-1.37c-.4-.4-.92-.59-1.43-.59-.52 0-1.04.2-1.43.59L10.3 9.45l-7.72 7.72c-.78.78-.78 2.05 0 2.83L4 21.41c.39.39.9.59 1.41.59.51 0 1.02-.2 1.41-.59l7.78-7.78 2.81-2.81c.8-.78.8-2.07 0-2.86zM5.41 20L4 18.59l7.72-7.72 1.47 1.35L5.41 20z\"/>\n",
              "  </svg>\n",
              "      </button>\n",
              "      \n",
              "  <style>\n",
              "    .colab-df-container {\n",
              "      display:flex;\n",
              "      flex-wrap:wrap;\n",
              "      gap: 12px;\n",
              "    }\n",
              "\n",
              "    .colab-df-convert {\n",
              "      background-color: #E8F0FE;\n",
              "      border: none;\n",
              "      border-radius: 50%;\n",
              "      cursor: pointer;\n",
              "      display: none;\n",
              "      fill: #1967D2;\n",
              "      height: 32px;\n",
              "      padding: 0 0 0 0;\n",
              "      width: 32px;\n",
              "    }\n",
              "\n",
              "    .colab-df-convert:hover {\n",
              "      background-color: #E2EBFA;\n",
              "      box-shadow: 0px 1px 2px rgba(60, 64, 67, 0.3), 0px 1px 3px 1px rgba(60, 64, 67, 0.15);\n",
              "      fill: #174EA6;\n",
              "    }\n",
              "\n",
              "    [theme=dark] .colab-df-convert {\n",
              "      background-color: #3B4455;\n",
              "      fill: #D2E3FC;\n",
              "    }\n",
              "\n",
              "    [theme=dark] .colab-df-convert:hover {\n",
              "      background-color: #434B5C;\n",
              "      box-shadow: 0px 1px 3px 1px rgba(0, 0, 0, 0.15);\n",
              "      filter: drop-shadow(0px 1px 2px rgba(0, 0, 0, 0.3));\n",
              "      fill: #FFFFFF;\n",
              "    }\n",
              "  </style>\n",
              "\n",
              "      <script>\n",
              "        const buttonEl =\n",
              "          document.querySelector('#df-2c6b4776-e8de-4a63-952d-6369fb54d9cb button.colab-df-convert');\n",
              "        buttonEl.style.display =\n",
              "          google.colab.kernel.accessAllowed ? 'block' : 'none';\n",
              "\n",
              "        async function convertToInteractive(key) {\n",
              "          const element = document.querySelector('#df-2c6b4776-e8de-4a63-952d-6369fb54d9cb');\n",
              "          const dataTable =\n",
              "            await google.colab.kernel.invokeFunction('convertToInteractive',\n",
              "                                                     [key], {});\n",
              "          if (!dataTable) return;\n",
              "\n",
              "          const docLinkHtml = 'Like what you see? Visit the ' +\n",
              "            '<a target=\"_blank\" href=https://colab.research.google.com/notebooks/data_table.ipynb>data table notebook</a>'\n",
              "            + ' to learn more about interactive tables.';\n",
              "          element.innerHTML = '';\n",
              "          dataTable['output_type'] = 'display_data';\n",
              "          await google.colab.output.renderOutput(dataTable, element);\n",
              "          const docLink = document.createElement('div');\n",
              "          docLink.innerHTML = docLinkHtml;\n",
              "          element.appendChild(docLink);\n",
              "        }\n",
              "      </script>\n",
              "    </div>\n",
              "  </div>\n",
              "  "
            ]
          },
          "metadata": {},
          "execution_count": 6
        }
      ],
      "source": [
        "#cek sample datanya\n",
        "df.head()"
      ]
    },
    {
      "cell_type": "code",
      "execution_count": null,
      "metadata": {
        "colab": {
          "base_uri": "https://localhost:8080/",
          "height": 345
        },
        "id": "B5QYldNKjgEW",
        "outputId": "4d5dd51d-0b14-4914-dbd3-000157dd7660"
      },
      "outputs": [
        {
          "output_type": "display_data",
          "data": {
            "text/plain": [
              "<Figure size 576x396 with 1 Axes>"
            ],
            "image/png": "[encoded data removed]"
          },
          "metadata": {}
        }
      ],
      "source": [
        "target, count = np.unique(df['tag'], return_counts=True)\n",
        "precentange = [x / np.sum(count) for x in count]\n",
        "plt.style.use('seaborn')\n",
        "plt.pie(precentange, labels = target,  autopct='%1.f%%', shadow=True)\n",
        "plt.title('Persentase Data Batik Jogja')\n",
        "plt.show()"
      ]
    },
    {
      "cell_type": "markdown",
      "metadata": {
        "id": "P282nr_zOuBE"
      },
      "source": [
        "# **Train test split**"
      ]
    },
    {
      "cell_type": "code",
      "execution_count": null,
      "metadata": {
        "id": "EYB53rahOuBG"
      },
      "outputs": [],
      "source": [
        "#load library untuk train test split\n",
        "from sklearn.model_selection import train_test_split"
      ]
    },
    {
      "cell_type": "code",
      "execution_count": null,
      "metadata": {
        "id": "28bgWhv0OuBH"
      },
      "outputs": [],
      "source": [
        "#variabel yang digunakan pada pemisahan data ini\n",
        "X= df['path']\n",
        "y= df['tag']"
      ]
    },
    {
      "cell_type": "code",
      "execution_count": null,
      "metadata": {
        "id": "NWDCcU45OuBI"
      },
      "outputs": [],
      "source": [
        "# split dataset awal menjadi data train dan test\n",
        "X_train, X_test, y_train, y_test = train_test_split(\n",
        "    X, y, train_size=0.2, random_state=300)"
      ]
    },
    {
      "cell_type": "code",
      "execution_count": null,
      "metadata": {
        "id": "mL2hNx_DOuBP"
      },
      "outputs": [],
      "source": [
        "df_train = pd.DataFrame({'path':X_train\n",
        "              ,'tag':y_train\n",
        "             ,'set':'train'})\n",
        "\n",
        "df_test = pd.DataFrame({'path':X_test\n",
        "              ,'tag':y_test\n",
        "             ,'set':'test'})"
      ]
    },
    {
      "cell_type": "code",
      "execution_count": null,
      "metadata": {
        "colab": {
          "base_uri": "https://localhost:8080/"
        },
        "id": "_ldDn4sFOuBR",
        "outputId": "2d33c858-c43e-48ed-e9f5-b2a46b6c2daf"
      },
      "outputs": [
        {
          "output_type": "stream",
          "name": "stdout",
          "text": [
            "train size 320\n",
            "test size 80\n"
          ]
        }
      ],
      "source": [
        "print('train size', len(df_train))\n",
        "print('test size', len(df_test))"
      ]
    },
    {
      "cell_type": "code",
      "execution_count": null,
      "metadata": {
        "colab": {
          "base_uri": "https://localhost:8080/"
        },
        "id": "kDFb8JLvOuBS",
        "outputId": "61a44b9d-62d3-4dbe-b896-b2722131e4c1"
      },
      "outputs": [
        {
          "output_type": "stream",
          "name": "stdout",
          "text": [
            "set    tag              \n",
            "test   Batik Ceplok         15\n",
            "       Batik Kawung         23\n",
            "       Batik Parang         10\n",
            "       Batik Sekar Jagad    17\n",
            "       Batik Tambal         15\n",
            "train  Batik Ceplok         65\n",
            "       Batik Kawung         57\n",
            "       Batik Parang         70\n",
            "       Batik Sekar Jagad    63\n",
            "       Batik Tambal         65\n",
            "dtype: int64 \n",
            "\n"
          ]
        }
      ],
      "source": [
        "df_all = df_train.append(df_test).reset_index(drop=1)\n",
        "print(df_all.groupby(['set','tag']).size(),'\\n')"
      ]
    },
    {
      "cell_type": "markdown",
      "metadata": {
        "id": "r3Y3dAkeOuBT"
      },
      "source": [
        "# **Merapihkan ke folder set masing-masing**"
      ]
    },
    {
      "cell_type": "code",
      "execution_count": null,
      "metadata": {
        "id": "qeEg11i7OuBU"
      },
      "outputs": [],
      "source": [
        "import shutil\n",
        "from tqdm.notebook import tqdm as tq"
      ]
    },
    {
      "cell_type": "code",
      "execution_count": null,
      "metadata": {
        "id": "aaYkt5h3OuBV"
      },
      "outputs": [],
      "source": [
        "datasource_path = \"/content/drive/MyDrive/Batik Jogja/\"\n",
        "dataset_path = \"/content/dataset/\""
      ]
    },
    {
      "cell_type": "code",
      "execution_count": null,
      "metadata": {
        "id": "3wp-6hmQOuBV"
      },
      "outputs": [],
      "source": [
        "for index, row in tq(df_all.iterrows()):\n",
        "    \n",
        "    #detect filepath\n",
        "    file_path = row['path']\n",
        "    if os.path.exists(file_path) == False:\n",
        "        file_path = os.path.join(datasource_path,row['tag'],row['image'].split('.')[0])            \n",
        "    \n",
        "    #make folder destination dirs\n",
        "    if os.path.exists(os.path.join(dataset_path,row['set'],row['tag'])) == False:\n",
        "        os.makedirs(os.path.join(dataset_path,row['set'],row['tag']))\n",
        "    \n",
        "    #define file dest\n",
        "    destination_file_name = file_path.split('/')[-1]\n",
        "    file_dest = os.path.join(dataset_path,row['set'],row['tag'],destination_file_name)\n",
        "    \n",
        "    #copy file from source to dest\n",
        "    if os.path.exists(file_dest) == False:\n",
        "        shutil.copy2(file_path,file_dest)"
      ]
    },
    {
      "cell_type": "code",
      "execution_count": null,
      "metadata": {
        "id": "QoVVN5f6oWns"
      },
      "outputs": [],
      "source": [
        "df_all.head()"
      ]
    },
    {
      "cell_type": "code",
      "source": [
        "!zip -r /content/file.zip /content/dataset"
      ],
      "metadata": {
        "id": "1RjSc5LcLrDv"
      },
      "execution_count": null,
      "outputs": []
    },
    {
      "cell_type": "code",
      "source": [
        "from google.colab import files\n",
        "files.download(\"/content/file.zip\")"
      ],
      "metadata": {
        "id": "BNU_5EBmL3M5"
      },
      "execution_count": null,
      "outputs": []
    },
    {
      "cell_type": "markdown",
      "metadata": {
        "id": "cPixOqhOOuBa"
      },
      "source": [
        "# **Mempersiapkan variabel global untuk training**"
      ]
    },
    {
      "cell_type": "code",
      "source": [
        "from google.colab import drive\n",
        "drive.mount('/content/drive')"
      ],
      "metadata": {
        "colab": {
          "base_uri": "https://localhost:8080/"
        },
        "id": "TRpY7HihMmgk",
        "outputId": "ae02602a-7366-4f64-8118-69ec01f79137"
      },
      "execution_count": null,
      "outputs": [
        {
          "output_type": "stream",
          "name": "stdout",
          "text": [
            "Mounted at /content/drive\n"
          ]
        }
      ]
    },
    {
      "cell_type": "code",
      "execution_count": null,
      "metadata": {
        "id": "IXPwOPqoOuBc"
      },
      "outputs": [],
      "source": [
        "import os\n",
        "import pandas as pd\n",
        "import matplotlib.pyplot as plt\n",
        "import numpy as np\n",
        "from keras.preprocessing.image import ImageDataGenerator, img_to_array, load_img \n",
        "from keras.utils.np_utils import to_categorical \n",
        "from keras.layers import Conv2D, MaxPool2D, Dropout, Flatten, Dense\n",
        "import tensorflow as tf\n",
        "from tensorflow.keras.applications import VGG16\n",
        "from tensorflow.keras.applications.vgg16 import preprocess_input\n",
        "from tensorflow.keras.preprocessing.image import ImageDataGenerator"
      ]
    },
    {
      "cell_type": "code",
      "execution_count": null,
      "metadata": {
        "id": "u0IawSREOuBd"
      },
      "outputs": [],
      "source": [
        "img_width, img_height = 224, 224\n",
        "\n",
        "train_data_dir = '/content/drive/MyDrive/dataset/train'\n",
        "test_data_dir = '/content/drive/MyDrive/dataset/test'\n",
        " \n",
        "batch_size = 32"
      ]
    },
    {
      "cell_type": "markdown",
      "metadata": {
        "id": "QMeU4MGPOuBf"
      },
      "source": [
        "# **Mempersiapkan dataset pipeline dan augmentation Untuk proses pembuatan dataset**"
      ]
    },
    {
      "cell_type": "code",
      "execution_count": null,
      "metadata": {
        "id": "l5IEFttEOuBf"
      },
      "outputs": [],
      "source": [
        "vgg16 = VGG16(weights='imagenet', include_top=False)\n",
        "datagen = ImageDataGenerator(rescale=1. / 255,\n",
        "                             rotation_range=20,\n",
        "                             width_shift_range=0.2,\n",
        "                             height_shift_range=0.2,\n",
        "                             shear_range=0.2,\n",
        "                             zoom_range=0.2,\n",
        "                             horizontal_flip=True) "
      ]
    },
    {
      "cell_type": "code",
      "execution_count": null,
      "metadata": {
        "colab": {
          "base_uri": "https://localhost:8080/"
        },
        "id": "5QIO1a12OuBg",
        "outputId": "990e0d89-90cb-4eb2-c527-3877425bb8b4"
      },
      "outputs": [
        {
          "output_type": "stream",
          "name": "stdout",
          "text": [
            "Found 320 images belonging to 5 classes.\n"
          ]
        }
      ],
      "source": [
        "train_generator = datagen.flow_from_directory( \n",
        "    train_data_dir, \n",
        "    target_size=(img_width, img_height), \n",
        "    batch_size=batch_size,\n",
        "    color_mode=\"rgb\",\n",
        "    class_mode='categorical', \n",
        "    shuffle=False) \n",
        " \n",
        "nb_train_samples = len(train_generator.filenames) \n",
        "num_classes = len(train_generator.class_indices) \n",
        "predict_size_train = int(math.ceil(nb_train_samples / batch_size)) \n",
        "train_data = vgg16.predict(train_generator) \n",
        "train_labels = train_generator.classes  \n",
        "train_labels = to_categorical(train_labels, num_classes=num_classes) "
      ]
    },
    {
      "cell_type": "code",
      "execution_count": null,
      "metadata": {
        "colab": {
          "base_uri": "https://localhost:8080/"
        },
        "id": "VrEyrHqnFON1",
        "outputId": "9f44c751-1f12-417f-ca24-1fb1ab27e447"
      },
      "outputs": [
        {
          "output_type": "stream",
          "name": "stdout",
          "text": [
            "Found 80 images belonging to 5 classes.\n"
          ]
        }
      ],
      "source": [
        "validation_generator = datagen.flow_from_directory(  \n",
        "     validation_data_dir,  \n",
        "     target_size=(img_width, img_height),  \n",
        "     batch_size=batch_size,\n",
        "     color_mode=\"rgb\",  \n",
        "     class_mode='categorical',  \n",
        "     shuffle=False)  \n",
        "   \n",
        "nb_validation_samples = len(validation_generator.filenames)   \n",
        "predict_size_validation = int(math.ceil(nb_validation_samples / batch_size))   \n",
        "features_validation = vgg16.predict(validation_generator, predict_size_validation)   \n",
        "validation_data = vgg16.predict(validation_generator)\n",
        "validation_labels = validation_generator.classes  \n",
        "validation_labels = to_categorical(validation_labels, num_classes=num_classes) "
      ]
    },
    {
      "cell_type": "code",
      "execution_count": null,
      "metadata": {
        "colab": {
          "base_uri": "https://localhost:8080/"
        },
        "id": "8CK-owJCFXN3",
        "outputId": "db7d3e62-2e06-4aac-993a-aa761e074256"
      },
      "outputs": [
        {
          "output_type": "stream",
          "name": "stdout",
          "text": [
            "{'Batik Ceplok': 0, 'Batik Kawung': 1, 'Batik Parang': 2, 'Batik Sekar Jagad': 3, 'Batik Tambal': 4}\n"
          ]
        }
      ],
      "source": [
        "print (generator_top.class_indices)\n",
        "labels = '\\n'.join(sorted(generator_top.class_indices.keys()))\n",
        "with open('labels.txt', 'w') as f:\n",
        "  f.write(labels)"
      ]
    },
    {
      "cell_type": "code",
      "execution_count": null,
      "metadata": {
        "id": "F60-Hl8mFXTz"
      },
      "outputs": [],
      "source": [
        "model = tf.keras.models.Sequential([\n",
        "        tf.keras.layers.Conv2D(128, (3, 3), activation='relu', strides=(1, 1), padding='same', input_shape=train_data.shape[1:]),\n",
        "        tf.keras.layers.MaxPool2D(2, 2),\n",
        "        tf.keras.layers.Dropout(0.3),\n",
        "        tf.keras.layers.Conv2D(64, (3, 3), activation='relu', strides=(1, 1), padding='same'),\n",
        "        tf.keras.layers.MaxPool2D(2, 2),\n",
        "        tf.keras.layers.Dropout(0.3),\n",
        "        tf.keras.layers.Conv2D(32, (3, 3), activation='relu', strides=(1, 1), padding='same'),\n",
        "        tf.keras.layers.Dropout(0.3),\n",
        "        tf.keras.layers.Flatten(),\n",
        "        tf.keras.layers.Dense(128, activation='relu'),\n",
        "        tf.keras.layers.Dense(num_classes, activation='softmax'),\n",
        "])\n",
        "\n",
        "model.compile(loss='categorical_crossentropy',\n",
        "              optimizer='adam',\n",
        "              metrics=['accuracy'])"
      ]
    },
    {
      "cell_type": "code",
      "source": [
        "model.summary()"
      ],
      "metadata": {
        "colab": {
          "base_uri": "https://localhost:8080/"
        },
        "id": "B-InDspiHnhL",
        "outputId": "2bb8baa0-45d4-4e57-c62e-84cfe2d6f588"
      },
      "execution_count": null,
      "outputs": [
        {
          "output_type": "stream",
          "name": "stdout",
          "text": [
            "Model: \"sequential\"\n",
            "_________________________________________________________________\n",
            " Layer (type)                Output Shape              Param #   \n",
            "=================================================================\n",
            " conv2d (Conv2D)             (None, 9, 9, 128)         589952    \n",
            "                                                                 \n",
            " max_pooling2d (MaxPooling2D  (None, 4, 4, 128)        0         \n",
            " )                                                               \n",
            "                                                                 \n",
            " dropout (Dropout)           (None, 4, 4, 128)         0         \n",
            "                                                                 \n",
            " conv2d_1 (Conv2D)           (None, 4, 4, 64)          73792     \n",
            "                                                                 \n",
            " max_pooling2d_1 (MaxPooling  (None, 2, 2, 64)         0         \n",
            " 2D)                                                             \n",
            "                                                                 \n",
            " dropout_1 (Dropout)         (None, 2, 2, 64)          0         \n",
            "                                                                 \n",
            " conv2d_2 (Conv2D)           (None, 2, 2, 32)          18464     \n",
            "                                                                 \n",
            " dropout_2 (Dropout)         (None, 2, 2, 32)          0         \n",
            "                                                                 \n",
            " flatten (Flatten)           (None, 128)               0         \n",
            "                                                                 \n",
            " dense (Dense)               (None, 128)               16512     \n",
            "                                                                 \n",
            " dense_1 (Dense)             (None, 5)                 645       \n",
            "                                                                 \n",
            "=================================================================\n",
            "Total params: 699,365\n",
            "Trainable params: 699,365\n",
            "Non-trainable params: 0\n",
            "_________________________________________________________________\n"
          ]
        }
      ]
    },
    {
      "cell_type": "code",
      "execution_count": null,
      "metadata": {
        "colab": {
          "base_uri": "https://localhost:8080/",
          "height": 756
        },
        "id": "d_QxTUlEOuBr",
        "outputId": "acac2ecf-5792-462e-a6b7-8cf9b2b170ea"
      },
      "outputs": [
        {
          "output_type": "execute_result",
          "data": {
            "image/png": "[encoded data removed]",
            "text/plain": [
              "<IPython.core.display.Image object>"
            ]
          },
          "metadata": {},
          "execution_count": 12
        }
      ],
      "source": [
        "model_viz = tf.keras.utils.plot_model(model,\n",
        "                          to_file='model.png',\n",
        "                          show_shapes=True,\n",
        "                          show_layer_names=True,\n",
        "                          rankdir='TB',\n",
        "                          expand_nested=True,\n",
        "                          dpi=55)\n",
        "model_viz"
      ]
    },
    {
      "cell_type": "code",
      "execution_count": null,
      "metadata": {
        "colab": {
          "base_uri": "https://localhost:8080/"
        },
        "id": "w8x8CvkAFkrd",
        "outputId": "be5ff835-a646-418b-81bc-dc058def88c6"
      },
      "outputs": [
        {
          "output_type": "stream",
          "name": "stdout",
          "text": [
            "Epoch 1/100\n",
            "10/10 [==============================] - 3s 196ms/step - loss: 1.7284 - accuracy: 0.2062 - val_loss: 1.5883 - val_accuracy: 0.3125\n",
            "Epoch 2/100\n",
            "10/10 [==============================] - 2s 172ms/step - loss: 1.6468 - accuracy: 0.2406 - val_loss: 1.5891 - val_accuracy: 0.3875\n",
            "Epoch 3/100\n",
            "10/10 [==============================] - 2s 170ms/step - loss: 1.5980 - accuracy: 0.2250 - val_loss: 1.5920 - val_accuracy: 0.2375\n",
            "Epoch 4/100\n",
            "10/10 [==============================] - 2s 169ms/step - loss: 1.6186 - accuracy: 0.2125 - val_loss: 1.5562 - val_accuracy: 0.5250\n",
            "Epoch 5/100\n",
            "10/10 [==============================] - 2s 173ms/step - loss: 1.5507 - accuracy: 0.3281 - val_loss: 1.5104 - val_accuracy: 0.4125\n",
            "Epoch 6/100\n",
            "10/10 [==============================] - 2s 171ms/step - loss: 1.5226 - accuracy: 0.3531 - val_loss: 1.4219 - val_accuracy: 0.4875\n",
            "Epoch 7/100\n",
            "10/10 [==============================] - 2s 168ms/step - loss: 1.4195 - accuracy: 0.3781 - val_loss: 1.3167 - val_accuracy: 0.4875\n",
            "Epoch 8/100\n",
            "10/10 [==============================] - 2s 171ms/step - loss: 1.3991 - accuracy: 0.3906 - val_loss: 1.2819 - val_accuracy: 0.6375\n",
            "Epoch 9/100\n",
            "10/10 [==============================] - 2s 169ms/step - loss: 1.2901 - accuracy: 0.4781 - val_loss: 1.1964 - val_accuracy: 0.5375\n",
            "Epoch 10/100\n",
            "10/10 [==============================] - 2s 172ms/step - loss: 1.1917 - accuracy: 0.5031 - val_loss: 1.1273 - val_accuracy: 0.6000\n",
            "Epoch 11/100\n",
            "10/10 [==============================] - 2s 171ms/step - loss: 1.0642 - accuracy: 0.5844 - val_loss: 1.0394 - val_accuracy: 0.6000\n",
            "Epoch 12/100\n",
            "10/10 [==============================] - 2s 170ms/step - loss: 0.9676 - accuracy: 0.6031 - val_loss: 0.9825 - val_accuracy: 0.6500\n",
            "Epoch 13/100\n",
            "10/10 [==============================] - 2s 173ms/step - loss: 0.8694 - accuracy: 0.6219 - val_loss: 0.9567 - val_accuracy: 0.6625\n",
            "Epoch 14/100\n",
            "10/10 [==============================] - 3s 294ms/step - loss: 0.7743 - accuracy: 0.6656 - val_loss: 0.8881 - val_accuracy: 0.6250\n",
            "Epoch 15/100\n",
            "10/10 [==============================] - 2s 239ms/step - loss: 0.6714 - accuracy: 0.7281 - val_loss: 0.8320 - val_accuracy: 0.7000\n",
            "Epoch 16/100\n",
            "10/10 [==============================] - 2s 171ms/step - loss: 0.6713 - accuracy: 0.7531 - val_loss: 0.8935 - val_accuracy: 0.7125\n",
            "Epoch 17/100\n",
            "10/10 [==============================] - 2s 170ms/step - loss: 0.5421 - accuracy: 0.8062 - val_loss: 0.9370 - val_accuracy: 0.7000\n",
            "Epoch 18/100\n",
            "10/10 [==============================] - 2s 170ms/step - loss: 0.4841 - accuracy: 0.8219 - val_loss: 0.8607 - val_accuracy: 0.7250\n",
            "Epoch 19/100\n",
            "10/10 [==============================] - 2s 168ms/step - loss: 0.4459 - accuracy: 0.8188 - val_loss: 0.9228 - val_accuracy: 0.6500\n",
            "Epoch 20/100\n",
            "10/10 [==============================] - 2s 169ms/step - loss: 0.3866 - accuracy: 0.8375 - val_loss: 0.9755 - val_accuracy: 0.7500\n",
            "Epoch 21/100\n",
            "10/10 [==============================] - 2s 172ms/step - loss: 0.3098 - accuracy: 0.9187 - val_loss: 0.9457 - val_accuracy: 0.7500\n",
            "Epoch 22/100\n",
            "10/10 [==============================] - 2s 170ms/step - loss: 0.2933 - accuracy: 0.8813 - val_loss: 1.1797 - val_accuracy: 0.7125\n",
            "Epoch 23/100\n",
            "10/10 [==============================] - 2s 169ms/step - loss: 0.3085 - accuracy: 0.9031 - val_loss: 0.9726 - val_accuracy: 0.7500\n",
            "Epoch 24/100\n",
            "10/10 [==============================] - 2s 171ms/step - loss: 0.2773 - accuracy: 0.8906 - val_loss: 1.0264 - val_accuracy: 0.7125\n",
            "Epoch 25/100\n",
            "10/10 [==============================] - 2s 170ms/step - loss: 0.2947 - accuracy: 0.9062 - val_loss: 0.8545 - val_accuracy: 0.7750\n",
            "Epoch 26/100\n",
            "10/10 [==============================] - 2s 171ms/step - loss: 0.2606 - accuracy: 0.8906 - val_loss: 0.8677 - val_accuracy: 0.7375\n",
            "Epoch 27/100\n",
            "10/10 [==============================] - 2s 172ms/step - loss: 0.1719 - accuracy: 0.9375 - val_loss: 0.8898 - val_accuracy: 0.7750\n",
            "Epoch 28/100\n",
            "10/10 [==============================] - 2s 171ms/step - loss: 0.1739 - accuracy: 0.9406 - val_loss: 1.4150 - val_accuracy: 0.6625\n",
            "Epoch 29/100\n",
            "10/10 [==============================] - 2s 171ms/step - loss: 0.1786 - accuracy: 0.9344 - val_loss: 0.9264 - val_accuracy: 0.7375\n",
            "Epoch 30/100\n",
            "10/10 [==============================] - 2s 169ms/step - loss: 0.1391 - accuracy: 0.9500 - val_loss: 1.3355 - val_accuracy: 0.7125\n",
            "Epoch 31/100\n",
            "10/10 [==============================] - 2s 170ms/step - loss: 0.0807 - accuracy: 0.9750 - val_loss: 1.1218 - val_accuracy: 0.7375\n",
            "Epoch 32/100\n",
            "10/10 [==============================] - 2s 171ms/step - loss: 0.0843 - accuracy: 0.9625 - val_loss: 1.5803 - val_accuracy: 0.6750\n",
            "Epoch 33/100\n",
            "10/10 [==============================] - 2s 169ms/step - loss: 0.0883 - accuracy: 0.9656 - val_loss: 1.1831 - val_accuracy: 0.7875\n",
            "Epoch 34/100\n",
            "10/10 [==============================] - 2s 170ms/step - loss: 0.0721 - accuracy: 0.9750 - val_loss: 1.2354 - val_accuracy: 0.7750\n",
            "Epoch 35/100\n",
            "10/10 [==============================] - 2s 170ms/step - loss: 0.0658 - accuracy: 0.9719 - val_loss: 1.9282 - val_accuracy: 0.6875\n",
            "Epoch 36/100\n",
            "10/10 [==============================] - 2s 169ms/step - loss: 0.1000 - accuracy: 0.9688 - val_loss: 1.4049 - val_accuracy: 0.7500\n",
            "Epoch 37/100\n",
            "10/10 [==============================] - 2s 171ms/step - loss: 0.0837 - accuracy: 0.9719 - val_loss: 1.9268 - val_accuracy: 0.7125\n",
            "Epoch 38/100\n",
            "10/10 [==============================] - 2s 173ms/step - loss: 0.0901 - accuracy: 0.9719 - val_loss: 1.4235 - val_accuracy: 0.6875\n",
            "Epoch 39/100\n",
            "10/10 [==============================] - 2s 171ms/step - loss: 0.0458 - accuracy: 0.9875 - val_loss: 1.9147 - val_accuracy: 0.7000\n",
            "Epoch 40/100\n",
            "10/10 [==============================] - 2s 170ms/step - loss: 0.0504 - accuracy: 0.9844 - val_loss: 1.6769 - val_accuracy: 0.7375\n",
            "Epoch 41/100\n",
            "10/10 [==============================] - 2s 173ms/step - loss: 0.0587 - accuracy: 0.9781 - val_loss: 1.3620 - val_accuracy: 0.7875\n",
            "Epoch 42/100\n",
            "10/10 [==============================] - 2s 170ms/step - loss: 0.1137 - accuracy: 0.9625 - val_loss: 1.5683 - val_accuracy: 0.7250\n",
            "Epoch 43/100\n",
            "10/10 [==============================] - 2s 171ms/step - loss: 0.1571 - accuracy: 0.9406 - val_loss: 1.7530 - val_accuracy: 0.7500\n",
            "Epoch 44/100\n",
            "10/10 [==============================] - 2s 173ms/step - loss: 0.0963 - accuracy: 0.9719 - val_loss: 1.8192 - val_accuracy: 0.6750\n",
            "Epoch 45/100\n",
            "10/10 [==============================] - 2s 170ms/step - loss: 0.1084 - accuracy: 0.9688 - val_loss: 1.5751 - val_accuracy: 0.7750\n",
            "Epoch 46/100\n",
            "10/10 [==============================] - 2s 169ms/step - loss: 0.0874 - accuracy: 0.9781 - val_loss: 1.5288 - val_accuracy: 0.7000\n",
            "Epoch 47/100\n",
            "10/10 [==============================] - 2s 169ms/step - loss: 0.0877 - accuracy: 0.9688 - val_loss: 1.4767 - val_accuracy: 0.7875\n",
            "Epoch 48/100\n",
            "10/10 [==============================] - 2s 170ms/step - loss: 0.0824 - accuracy: 0.9656 - val_loss: 1.6095 - val_accuracy: 0.6875\n",
            "Epoch 49/100\n",
            "10/10 [==============================] - 2s 170ms/step - loss: 0.0480 - accuracy: 0.9906 - val_loss: 1.9399 - val_accuracy: 0.6875\n",
            "Epoch 50/100\n",
            "10/10 [==============================] - 2s 169ms/step - loss: 0.0883 - accuracy: 0.9719 - val_loss: 1.3818 - val_accuracy: 0.7750\n",
            "Epoch 51/100\n",
            "10/10 [==============================] - 2s 168ms/step - loss: 0.0560 - accuracy: 0.9719 - val_loss: 1.4799 - val_accuracy: 0.7250\n",
            "Epoch 52/100\n",
            "10/10 [==============================] - 2s 170ms/step - loss: 0.0475 - accuracy: 0.9750 - val_loss: 1.6307 - val_accuracy: 0.7625\n",
            "Epoch 53/100\n",
            "10/10 [==============================] - 2s 169ms/step - loss: 0.0767 - accuracy: 0.9781 - val_loss: 1.6071 - val_accuracy: 0.6875\n",
            "Epoch 54/100\n",
            "10/10 [==============================] - 2s 170ms/step - loss: 0.0363 - accuracy: 0.9875 - val_loss: 1.7536 - val_accuracy: 0.7500\n",
            "Epoch 55/100\n",
            "10/10 [==============================] - 2s 184ms/step - loss: 0.0359 - accuracy: 0.9875 - val_loss: 1.9044 - val_accuracy: 0.7250\n",
            "Epoch 56/100\n",
            "10/10 [==============================] - 2s 196ms/step - loss: 0.0486 - accuracy: 0.9812 - val_loss: 1.7644 - val_accuracy: 0.7000\n",
            "Epoch 57/100\n",
            "10/10 [==============================] - 2s 231ms/step - loss: 0.0270 - accuracy: 0.9906 - val_loss: 1.9051 - val_accuracy: 0.7250\n",
            "Epoch 58/100\n",
            "10/10 [==============================] - 2s 220ms/step - loss: 0.0181 - accuracy: 0.9937 - val_loss: 1.7866 - val_accuracy: 0.7625\n",
            "Epoch 59/100\n",
            "10/10 [==============================] - 2s 170ms/step - loss: 0.0246 - accuracy: 0.9937 - val_loss: 1.9053 - val_accuracy: 0.7250\n",
            "Epoch 60/100\n",
            "10/10 [==============================] - 2s 171ms/step - loss: 0.0275 - accuracy: 0.9937 - val_loss: 2.0785 - val_accuracy: 0.7500\n",
            "Epoch 61/100\n",
            "10/10 [==============================] - 2s 172ms/step - loss: 0.0243 - accuracy: 0.9937 - val_loss: 1.9703 - val_accuracy: 0.7250\n",
            "Epoch 62/100\n",
            "10/10 [==============================] - 2s 173ms/step - loss: 0.0650 - accuracy: 0.9812 - val_loss: 2.1199 - val_accuracy: 0.7250\n",
            "Epoch 63/100\n",
            "10/10 [==============================] - 2s 169ms/step - loss: 0.1040 - accuracy: 0.9812 - val_loss: 2.8920 - val_accuracy: 0.6750\n",
            "Epoch 64/100\n",
            "10/10 [==============================] - 2s 173ms/step - loss: 0.2004 - accuracy: 0.9500 - val_loss: 1.6345 - val_accuracy: 0.6625\n",
            "Epoch 65/100\n",
            "10/10 [==============================] - 2s 171ms/step - loss: 0.1308 - accuracy: 0.9500 - val_loss: 1.9390 - val_accuracy: 0.7125\n",
            "Epoch 66/100\n",
            "10/10 [==============================] - 2s 173ms/step - loss: 0.0796 - accuracy: 0.9688 - val_loss: 1.6553 - val_accuracy: 0.7375\n",
            "Epoch 67/100\n",
            "10/10 [==============================] - 2s 173ms/step - loss: 0.0591 - accuracy: 0.9812 - val_loss: 1.3851 - val_accuracy: 0.8000\n",
            "Epoch 68/100\n",
            "10/10 [==============================] - 2s 172ms/step - loss: 0.0657 - accuracy: 0.9719 - val_loss: 2.1246 - val_accuracy: 0.7500\n",
            "Epoch 69/100\n",
            "10/10 [==============================] - 2s 170ms/step - loss: 0.0909 - accuracy: 0.9688 - val_loss: 1.6596 - val_accuracy: 0.6750\n",
            "Epoch 70/100\n",
            "10/10 [==============================] - 2s 172ms/step - loss: 0.0409 - accuracy: 0.9844 - val_loss: 1.8001 - val_accuracy: 0.7000\n",
            "Epoch 71/100\n",
            "10/10 [==============================] - 2s 170ms/step - loss: 0.0590 - accuracy: 0.9781 - val_loss: 1.8341 - val_accuracy: 0.7500\n",
            "Epoch 72/100\n",
            "10/10 [==============================] - 2s 171ms/step - loss: 0.0202 - accuracy: 0.9906 - val_loss: 1.6287 - val_accuracy: 0.7750\n",
            "Epoch 73/100\n",
            "10/10 [==============================] - 2s 172ms/step - loss: 0.0106 - accuracy: 0.9969 - val_loss: 1.6559 - val_accuracy: 0.7625\n",
            "Epoch 74/100\n",
            "10/10 [==============================] - 2s 252ms/step - loss: 0.0067 - accuracy: 0.9969 - val_loss: 2.1559 - val_accuracy: 0.7125\n",
            "Epoch 75/100\n",
            "10/10 [==============================] - 3s 296ms/step - loss: 0.0211 - accuracy: 0.9969 - val_loss: 2.0287 - val_accuracy: 0.7000\n",
            "Epoch 76/100\n",
            "10/10 [==============================] - 2s 172ms/step - loss: 0.0397 - accuracy: 0.9844 - val_loss: 2.3054 - val_accuracy: 0.6625\n",
            "Epoch 77/100\n",
            "10/10 [==============================] - 2s 169ms/step - loss: 0.0383 - accuracy: 0.9906 - val_loss: 1.8729 - val_accuracy: 0.7125\n",
            "Epoch 78/100\n",
            "10/10 [==============================] - 2s 173ms/step - loss: 0.0241 - accuracy: 0.9906 - val_loss: 1.7515 - val_accuracy: 0.7375\n",
            "Epoch 79/100\n",
            "10/10 [==============================] - 2s 172ms/step - loss: 0.0137 - accuracy: 0.9969 - val_loss: 1.7091 - val_accuracy: 0.7500\n",
            "Epoch 80/100\n",
            "10/10 [==============================] - 2s 172ms/step - loss: 0.0131 - accuracy: 0.9937 - val_loss: 1.7657 - val_accuracy: 0.7750\n",
            "Epoch 81/100\n",
            "10/10 [==============================] - 2s 172ms/step - loss: 0.0155 - accuracy: 0.9969 - val_loss: 1.7760 - val_accuracy: 0.7750\n",
            "Epoch 82/100\n",
            "10/10 [==============================] - 2s 170ms/step - loss: 0.0297 - accuracy: 0.9906 - val_loss: 1.6306 - val_accuracy: 0.7500\n",
            "Epoch 83/100\n",
            "10/10 [==============================] - 2s 171ms/step - loss: 0.0113 - accuracy: 1.0000 - val_loss: 1.6637 - val_accuracy: 0.7375\n",
            "Epoch 84/100\n",
            "10/10 [==============================] - 2s 172ms/step - loss: 0.0104 - accuracy: 0.9969 - val_loss: 1.9439 - val_accuracy: 0.7250\n",
            "Epoch 85/100\n",
            "10/10 [==============================] - 2s 171ms/step - loss: 0.0116 - accuracy: 0.9937 - val_loss: 2.0864 - val_accuracy: 0.7500\n",
            "Epoch 86/100\n",
            "10/10 [==============================] - 2s 169ms/step - loss: 0.0114 - accuracy: 0.9969 - val_loss: 2.1187 - val_accuracy: 0.7375\n",
            "Epoch 87/100\n",
            "10/10 [==============================] - 2s 171ms/step - loss: 0.0041 - accuracy: 1.0000 - val_loss: 2.1852 - val_accuracy: 0.7750\n",
            "Epoch 88/100\n",
            "10/10 [==============================] - 2s 169ms/step - loss: 0.0249 - accuracy: 0.9937 - val_loss: 2.4632 - val_accuracy: 0.7500\n",
            "Epoch 89/100\n",
            "10/10 [==============================] - 2s 171ms/step - loss: 0.0021 - accuracy: 1.0000 - val_loss: 2.2212 - val_accuracy: 0.7625\n",
            "Epoch 90/100\n",
            "10/10 [==============================] - 2s 173ms/step - loss: 0.0057 - accuracy: 1.0000 - val_loss: 2.2012 - val_accuracy: 0.7750\n",
            "Epoch 91/100\n",
            "10/10 [==============================] - 2s 169ms/step - loss: 0.0023 - accuracy: 1.0000 - val_loss: 2.2020 - val_accuracy: 0.7750\n",
            "Epoch 92/100\n",
            "10/10 [==============================] - 2s 171ms/step - loss: 0.0027 - accuracy: 1.0000 - val_loss: 2.2457 - val_accuracy: 0.7750\n",
            "Epoch 93/100\n",
            "10/10 [==============================] - 2s 171ms/step - loss: 0.0074 - accuracy: 0.9969 - val_loss: 2.5435 - val_accuracy: 0.7375\n",
            "Epoch 94/100\n",
            "10/10 [==============================] - 2s 170ms/step - loss: 0.0207 - accuracy: 0.9906 - val_loss: 2.1422 - val_accuracy: 0.7375\n",
            "Epoch 95/100\n",
            "10/10 [==============================] - 2s 171ms/step - loss: 0.0575 - accuracy: 0.9781 - val_loss: 3.0480 - val_accuracy: 0.6500\n",
            "Epoch 96/100\n",
            "10/10 [==============================] - 2s 172ms/step - loss: 0.0345 - accuracy: 0.9844 - val_loss: 1.8913 - val_accuracy: 0.7250\n",
            "Epoch 97/100\n",
            "10/10 [==============================] - 2s 171ms/step - loss: 0.0337 - accuracy: 0.9844 - val_loss: 2.0120 - val_accuracy: 0.7000\n",
            "Epoch 98/100\n",
            "10/10 [==============================] - 2s 172ms/step - loss: 0.0607 - accuracy: 0.9812 - val_loss: 2.4421 - val_accuracy: 0.6250\n",
            "Epoch 99/100\n",
            "10/10 [==============================] - 2s 170ms/step - loss: 0.0765 - accuracy: 0.9781 - val_loss: 2.1364 - val_accuracy: 0.7625\n",
            "Epoch 100/100\n",
            "10/10 [==============================] - 2s 171ms/step - loss: 0.0609 - accuracy: 0.9844 - val_loss: 2.0602 - val_accuracy: 0.7750\n",
            "3/3 [==============================] - 0s 49ms/step - loss: 2.0602 - accuracy: 0.7750\n",
            "[INFO] accuracy: 77.50%\n",
            "[INFO] Loss: 2.0601799488067627\n"
          ]
        }
      ],
      "source": [
        "history = model.fit(train_data, train_labels, \n",
        "   epochs=100,\n",
        "   batch_size=batch_size, \n",
        "   validation_data=(test_data, test_labels))  \n",
        "(eval_loss, eval_accuracy) = model.evaluate(test_data, test_labels, batch_size=batch_size, verbose=1)\n",
        "print('[INFO] accuracy: {:.2f}%'.format(eval_accuracy * 100)) \n",
        "print('[INFO] Loss: {}'.format(eval_loss)) "
      ]
    },
    {
      "cell_type": "code",
      "execution_count": null,
      "metadata": {
        "colab": {
          "base_uri": "https://localhost:8080/",
          "height": 573
        },
        "id": "yUZqYERqFkt1",
        "outputId": "a7ef178c-0e0c-445f-8d65-fccb958d76eb"
      },
      "outputs": [
        {
          "output_type": "display_data",
          "data": {
            "text/plain": [
              "<Figure size 432x288 with 1 Axes>"
            ],
            "image/png": "[encoded data removed]"
          },
          "metadata": {
            "needs_background": "light"
          }
        },
        {
          "output_type": "display_data",
          "data": {
            "text/plain": [
              "<Figure size 432x288 with 1 Axes>"
            ],
            "image/png": "[encoded data removed]"
          },
          "metadata": {
            "needs_background": "light"
          }
        }
      ],
      "source": [
        "accuracy = history.history['accuracy']\n",
        "val_accuracy = history.history['val_accuracy']\n",
        "loss = history.history['loss']\n",
        "val_loss = history.history['val_loss']\n",
        "epochs = range(len(accuracy))\n",
        "plt.plot(epochs, accuracy, label='Training accuracy')\n",
        "plt.plot(epochs, val_accuracy, label='Validation accuracy')\n",
        "plt.title('Training and validation accuracy')\n",
        "plt.ylabel('accuracy')  \n",
        "plt.xlabel('epoch')\n",
        "plt.legend()\n",
        "plt.figure()\n",
        "plt.plot(epochs, loss, label='Training loss')\n",
        "plt.plot(epochs, val_loss, label='Validation loss')\n",
        "plt.title('Training and validation loss')\n",
        "plt.ylabel('loss')  \n",
        "plt.xlabel('epoch')\n",
        "plt.legend()\n",
        "plt.show()"
      ]
    },
    {
      "cell_type": "code",
      "execution_count": null,
      "metadata": {
        "colab": {
          "base_uri": "https://localhost:8080/"
        },
        "id": "d7u2cxauFkwZ",
        "outputId": "a2fffa24-ca23-4580-9fb4-38c607a4bbf8"
      },
      "outputs": [
        {
          "output_type": "stream",
          "name": "stdout",
          "text": [
            "3/3 [==============================] - 0s 46ms/step - loss: 2.0602 - accuracy: 0.7750\n"
          ]
        },
        {
          "output_type": "execute_result",
          "data": {
            "text/plain": [
              "[2.0601799488067627, 0.7749999761581421]"
            ]
          },
          "metadata": {},
          "execution_count": 15
        }
      ],
      "source": [
        "model.evaluate(test_data, test_labels)"
      ]
    },
    {
      "cell_type": "code",
      "source": [
        "model.save('my_model.h5')"
      ],
      "metadata": {
        "id": "Y986ZQYc9yrh"
      },
      "execution_count": null,
      "outputs": []
    }
  ],
  "metadata": {
    "colab": {
      "provenance": []
    },
    "kernelspec": {
      "display_name": "Python 3",
      "language": "python",
      "name": "python3"
    },
    "language_info": {
      "codemirror_mode": {
        "name": "ipython",
        "version": 3
      },
      "file_extension": ".py",
      "mimetype": "text/x-python",
      "name": "python",
      "nbconvert_exporter": "python",
      "pygments_lexer": "ipython3",
      "version": "3.7.10"
    }
  },
  "nbformat": 4,
  "nbformat_minor": 0
}